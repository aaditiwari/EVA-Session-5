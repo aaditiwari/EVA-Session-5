{
  "nbformat": 4,
  "nbformat_minor": 0,
  "metadata": {
    "colab": {
      "name": "Image Norm BN L2 Amit Doda M6 Session 5.ipynb",
      "version": "0.3.2",
      "provenance": [],
      "collapsed_sections": [],
      "include_colab_link": true
    },
    "kernelspec": {
      "name": "python3",
      "display_name": "Python 3"
    },
    "accelerator": "GPU"
  },
  "cells": [
    {
      "cell_type": "markdown",
      "metadata": {
        "id": "view-in-github",
        "colab_type": "text"
      },
      "source": [
        "<a href=\"https://colab.research.google.com/github/amitdoda1983/EVA-Session-5/blob/master/Image_Norm_BN_L2_Amit_Doda_M6_Session_5.ipynb\" target=\"_parent\"><img src=\"https://colab.research.google.com/assets/colab-badge.svg\" alt=\"Open In Colab\"/></a>"
      ]
    },
    {
      "cell_type": "markdown",
      "metadata": {
        "id": "IxnnnZhE0LRk",
        "colab_type": "text"
      },
      "source": [
        "###Import Libraries and modules"
      ]
    },
    {
      "cell_type": "code",
      "metadata": {
        "id": "3m3w1Cw49Zkt",
        "colab_type": "code",
        "colab": {}
      },
      "source": [
        "# https://keras.io/\n",
        "!pip install -q keras\n",
        "import keras"
      ],
      "execution_count": 0,
      "outputs": []
    },
    {
      "cell_type": "code",
      "metadata": {
        "id": "Eso6UHE080D4",
        "colab_type": "code",
        "colab": {}
      },
      "source": [
        "import numpy as np\n",
        "\n",
        "from keras.models import Sequential\n",
        "from keras.layers import Dense, Dropout, Activation, Flatten, Add\n",
        "from keras.layers import Convolution2D, MaxPooling2D\n",
        "from keras.utils import np_utils\n",
        "\n",
        "from keras.datasets import mnist"
      ],
      "execution_count": 0,
      "outputs": []
    },
    {
      "cell_type": "markdown",
      "metadata": {
        "id": "zByEi95J86RD",
        "colab_type": "text"
      },
      "source": [
        "### Load pre-shuffled MNIST data into train and test sets"
      ]
    },
    {
      "cell_type": "code",
      "metadata": {
        "id": "7eRM0QWN83PV",
        "colab_type": "code",
        "colab": {}
      },
      "source": [
        "(X_train, y_train), (X_test, y_test) = mnist.load_data()"
      ],
      "execution_count": 0,
      "outputs": []
    },
    {
      "cell_type": "code",
      "metadata": {
        "id": "4a4Be72j8-ZC",
        "colab_type": "code",
        "outputId": "3be6ff8f-9416-4bcc-85fc-db3f4ec47f52",
        "colab": {
          "base_uri": "https://localhost:8080/",
          "height": 306
        }
      },
      "source": [
        "print (X_train.shape)\n",
        "from matplotlib import pyplot as plt\n",
        "%matplotlib inline\n",
        "plt.imshow(X_train[0])"
      ],
      "execution_count": 356,
      "outputs": [
        {
          "output_type": "stream",
          "text": [
            "(60000, 28, 28)\n"
          ],
          "name": "stdout"
        },
        {
          "output_type": "execute_result",
          "data": {
            "text/plain": [
              "<matplotlib.image.AxesImage at 0x7f7eef33cd68>"
            ]
          },
          "metadata": {
            "tags": []
          },
          "execution_count": 356
        },
        {
          "output_type": "display_data",
          "data": {
            "image/png": "[encoded data removed]",
            "text/plain": [
              "<Figure size 432x288 with 1 Axes>"
            ]
          },
          "metadata": {
            "tags": []
          }
        }
      ]
    },
    {
      "cell_type": "code",
      "metadata": {
        "id": "OnDINRCMvyht",
        "colab_type": "code",
        "colab": {
          "base_uri": "https://localhost:8080/",
          "height": 36
        },
        "outputId": "a1a78dfa-8852-4933-d0e6-43223e621574"
      },
      "source": [
        "print (X_train.mean(),X_train.std())"
      ],
      "execution_count": 357,
      "outputs": [
        {
          "output_type": "stream",
          "text": [
            "33.318421449829934 78.56748998339798\n"
          ],
          "name": "stdout"
        }
      ]
    },
    {
      "cell_type": "code",
      "metadata": {
        "id": "3T6UK8Ii-Izh",
        "colab_type": "code",
        "colab": {
          "base_uri": "https://localhost:8080/",
          "height": 36
        },
        "outputId": "baa3b22d-e87c-420f-949a-60682608e94a"
      },
      "source": [
        "print (X_test.mean(),X_test.std())"
      ],
      "execution_count": 358,
      "outputs": [
        {
          "output_type": "stream",
          "text": [
            "33.791224489795916 79.17246322228644\n"
          ],
          "name": "stdout"
        }
      ]
    },
    {
      "cell_type": "code",
      "metadata": {
        "id": "pvswb5Od0KQ2",
        "colab_type": "code",
        "colab": {}
      },
      "source": [
        "train_X= X_train\n",
        "test_X = X_test"
      ],
      "execution_count": 0,
      "outputs": []
    },
    {
      "cell_type": "code",
      "metadata": {
        "id": "B6-Xwzq36lWJ",
        "colab_type": "code",
        "colab": {}
      },
      "source": [
        "X_train = X_train.reshape(X_train.shape[0], 28, 28,1)\n",
        "X_test = X_test.reshape(X_test.shape[0], 28, 28,1)"
      ],
      "execution_count": 0,
      "outputs": []
    },
    {
      "cell_type": "markdown",
      "metadata": {
        "id": "AdCAEaQzFjgD",
        "colab_type": "text"
      },
      "source": [
        "### Model with Image Normalization"
      ]
    },
    {
      "cell_type": "code",
      "metadata": {
        "id": "XxVEhvwlu51b",
        "colab_type": "code",
        "colab": {
          "base_uri": "https://localhost:8080/",
          "height": 73
        },
        "outputId": "deefa172-7ceb-4b83-fcac-a893a65cd01a"
      },
      "source": [
        "# example of standardizing a image dataset\n",
        "from keras.datasets import mnist\n",
        "from keras.preprocessing.image import ImageDataGenerator\n",
        "# load dataset\n",
        "(trainX, trainy), (testX, testy) = mnist.load_data()\n",
        "# reshape dataset to have a single channel\n",
        "width, height, channels = trainX.shape[1], trainX.shape[2], 1\n",
        "trainX = trainX.reshape((trainX.shape[0], width, height, channels))\n",
        "testX = testX.reshape((testX.shape[0], width, height, channels))\n",
        "# report pixel means and standard deviations\n",
        "print('Statistics train=%.3f (%.3f), test=%.3f (%.3f)' % (trainX.mean(), trainX.std(), testX.mean(), testX.std()))\n",
        "\n",
        "# create generator that centers pixel values\n",
        "datagen = ImageDataGenerator(featurewise_center=True, featurewise_std_normalization=True)\n",
        "\n",
        "# calculate the mean on the training dataset\n",
        "datagen.fit(trainX)\n",
        "#print('Data Generator mean=%.3f, std=%.3f' % (datagen.mean, datagen.std))\n",
        "\n",
        "# demonstrate effect on a single batch of samples\n",
        "iterator = datagen.flow(trainX, trainy, batch_size=64)\n",
        "\n",
        "# get a batch\n",
        "batchX, batchy = iterator.next()\n",
        "\n",
        "# pixel stats in the batch\n",
        "print(batchX.shape, batchX.mean(), batchX.std())\n",
        "\n",
        "# demonstrate effect on entire training dataset\n",
        "iterator = datagen.flow(trainX, trainy, batch_size=len(trainX), shuffle=False)\n",
        "\n",
        "# get a batch\n",
        "batchX, batchy = iterator.next()\n",
        "\n",
        "# pixel stats in the batch\n",
        "print(batchX.shape, batchX.mean(), batchX.std())"
      ],
      "execution_count": 369,
      "outputs": [
        {
          "output_type": "stream",
          "text": [
            "Statistics train=33.318 (78.567), test=33.791 (79.172)\n",
            "(64, 28, 28, 1) 0.041031793 1.0454384\n",
            "(60000, 28, 28, 1) -3.4560264e-07 0.9999998\n"
          ],
          "name": "stdout"
        }
      ]
    },
    {
      "cell_type": "code",
      "metadata": {
        "id": "amW4ke4-04O3",
        "colab_type": "code",
        "colab": {}
      },
      "source": [
        "iterator1 = datagen.flow(testX, testy, batch_size=len(testX), shuffle=False)\n",
        "batch_testX, batch_testy = iterator1.next()\n",
        "                        "
      ],
      "execution_count": 0,
      "outputs": []
    },
    {
      "cell_type": "code",
      "metadata": {
        "id": "b33_Rj4-1McV",
        "colab_type": "code",
        "colab": {
          "base_uri": "https://localhost:8080/",
          "height": 36
        },
        "outputId": "855c91d2-da81-4911-9324-f86cfa027ab0"
      },
      "source": [
        "batch_testX.shape"
      ],
      "execution_count": 371,
      "outputs": [
        {
          "output_type": "execute_result",
          "data": {
            "text/plain": [
              "(10000, 28, 28, 1)"
            ]
          },
          "metadata": {
            "tags": []
          },
          "execution_count": 371
        }
      ]
    },
    {
      "cell_type": "code",
      "metadata": {
        "id": "MbclA6OFHOW7",
        "colab_type": "code",
        "colab": {
          "base_uri": "https://localhost:8080/",
          "height": 36
        },
        "outputId": "01e8e67a-84a2-4bf4-f1da-a48e3cdc8e75"
      },
      "source": [
        "batch_testX.mean()"
      ],
      "execution_count": 372,
      "outputs": [
        {
          "output_type": "execute_result",
          "data": {
            "text/plain": [
              "0.0060174568"
            ]
          },
          "metadata": {
            "tags": []
          },
          "execution_count": 372
        }
      ]
    },
    {
      "cell_type": "code",
      "metadata": {
        "id": "cuAyWifLJMxU",
        "colab_type": "code",
        "colab": {
          "base_uri": "https://localhost:8080/",
          "height": 36
        },
        "outputId": "9c177c9e-c6e3-49b3-840c-78163e92288d"
      },
      "source": [
        "batch_testX.std()"
      ],
      "execution_count": 373,
      "outputs": [
        {
          "output_type": "execute_result",
          "data": {
            "text/plain": [
              "1.0077008"
            ]
          },
          "metadata": {
            "tags": []
          },
          "execution_count": 373
        }
      ]
    },
    {
      "cell_type": "markdown",
      "metadata": {
        "id": "UBSlvGhf2p9B",
        "colab_type": "text"
      },
      "source": [
        "Reshape the input to have the dimension for channel"
      ]
    },
    {
      "cell_type": "code",
      "metadata": {
        "id": "dkmprriw9AnZ",
        "colab_type": "code",
        "colab": {}
      },
      "source": [
        "X_train = batchX\n",
        "X_test = batch_testX"
      ],
      "execution_count": 0,
      "outputs": []
    },
    {
      "cell_type": "code",
      "metadata": {
        "id": "mdImE8gDJmEv",
        "colab_type": "code",
        "colab": {}
      },
      "source": [
        "y_train=batchy\n",
        "y_test=batch_testy"
      ],
      "execution_count": 0,
      "outputs": []
    },
    {
      "cell_type": "markdown",
      "metadata": {
        "id": "6Vybkntk21Y-",
        "colab_type": "text"
      },
      "source": [
        "One hot encoding for output variable"
      ]
    },
    {
      "cell_type": "code",
      "metadata": {
        "id": "ZG8JiXR39FHC",
        "colab_type": "code",
        "colab": {}
      },
      "source": [
        "# Convert 1-dimensional class arrays to 10-dimensional class matrices\n",
        "Y_train = np_utils.to_categorical(y_train, 10)\n",
        "Y_test = np_utils.to_categorical(y_test, 10)"
      ],
      "execution_count": 0,
      "outputs": []
    },
    {
      "cell_type": "code",
      "metadata": {
        "id": "fYlFRvKS9HMB",
        "colab_type": "code",
        "outputId": "e78d0434-37d7-491f-e264-e3fdc45a75b4",
        "colab": {
          "base_uri": "https://localhost:8080/",
          "height": 203
        }
      },
      "source": [
        "Y_train[:10]\n"
      ],
      "execution_count": 377,
      "outputs": [
        {
          "output_type": "execute_result",
          "data": {
            "text/plain": [
              "array([[0., 0., 0., 0., 0., 1., 0., 0., 0., 0.],\n",
              "       [1., 0., 0., 0., 0., 0., 0., 0., 0., 0.],\n",
              "       [0., 0., 0., 0., 1., 0., 0., 0., 0., 0.],\n",
              "       [0., 1., 0., 0., 0., 0., 0., 0., 0., 0.],\n",
              "       [0., 0., 0., 0., 0., 0., 0., 0., 0., 1.],\n",
              "       [0., 0., 1., 0., 0., 0., 0., 0., 0., 0.],\n",
              "       [0., 1., 0., 0., 0., 0., 0., 0., 0., 0.],\n",
              "       [0., 0., 0., 1., 0., 0., 0., 0., 0., 0.],\n",
              "       [0., 1., 0., 0., 0., 0., 0., 0., 0., 0.],\n",
              "       [0., 0., 0., 0., 1., 0., 0., 0., 0., 0.]], dtype=float32)"
            ]
          },
          "metadata": {
            "tags": []
          },
          "execution_count": 377
        }
      ]
    },
    {
      "cell_type": "code",
      "metadata": {
        "id": "osKqT73Q9JJB",
        "colab_type": "code",
        "colab": {}
      },
      "source": [
        "from keras.layers import Activation, MaxPooling2D,AveragePooling2D,Dropout,BatchNormalization\n",
        "import keras.callbacks\n",
        "from keras.callbacks import *\n",
        "model = Sequential()\n",
        "\n",
        " \n",
        "\n",
        "model.add(Convolution2D(8, (3, 3),activation='relu', input_shape=(28,28,1)))\n",
        "                               # Global Receptive field (3,3), output channel size =(26,26,8)\n",
        "#model.add(BatchNormalization())\n",
        "model.add(Convolution2D(16, (3, 3),activation='relu'))\n",
        "                               # Global Receptive field (5,5), output channel size =(24,24,16)\n",
        "model.add(BatchNormalization())\n",
        "model.add(Dropout(0.2))\n",
        "\n",
        "\n",
        "model.add(MaxPooling2D(pool_size = (2, 2)))\n",
        "                               # Global Receptive field (10,10), output channel size =(12,12,16)\n",
        "  \n",
        "model.add(Convolution2D(16, (3, 3),activation='relu'))\n",
        "                               # Global Receptive field (12,12), output channel size =(10,10,16)\n",
        "model.add(BatchNormalization())\n",
        "model.add(Dropout(0.2))\n",
        "\n",
        "\n",
        "model.add(MaxPooling2D(pool_size = (2, 2)))\n",
        "                               # Global Receptive field (24,24), output channel size =(5,5,16)\n",
        "  \n",
        "model.add(Convolution2D(32, (3,3),activation='relu'))\n",
        "                               # Global Receptive field (26,26), output channel size =(3,3,32)\n",
        "#model.add(BatchNormalization())\n",
        "\n",
        "\n",
        "model.add(Convolution2D(10, 1, activation='relu'))\n",
        "                               # Global Receptive field (26,26), output channel size =(3,3,10)\n",
        "model.add(BatchNormalization())\n",
        "                      \n",
        "model.add(AveragePooling2D(pool_size = (3, 3)))\n",
        "#model.add(Convolution2D(10, 3))\n",
        "                               # Global Receptive field (28,28), output channel size =(1,1,10)\n",
        "model.add(Flatten())\n",
        "model.add(Activation('softmax'))"
      ],
      "execution_count": 0,
      "outputs": []
    },
    {
      "cell_type": "markdown",
      "metadata": {
        "id": "fnPQPNDl8vKj",
        "colab_type": "text"
      },
      "source": [
        "### 8,706 Parameters"
      ]
    },
    {
      "cell_type": "code",
      "metadata": {
        "id": "TzdAYg1k9K7Z",
        "colab_type": "code",
        "outputId": "777e3710-5b18-49b0-e887-278457b71398",
        "colab": {
          "base_uri": "https://localhost:8080/",
          "height": 706
        }
      },
      "source": [
        "model.summary()"
      ],
      "execution_count": 183,
      "outputs": [
        {
          "output_type": "stream",
          "text": [
            "_________________________________________________________________\n",
            "Layer (type)                 Output Shape              Param #   \n",
            "=================================================================\n",
            "conv2d_123 (Conv2D)          (None, 26, 26, 8)         80        \n",
            "_________________________________________________________________\n",
            "conv2d_124 (Conv2D)          (None, 24, 24, 16)        1168      \n",
            "_________________________________________________________________\n",
            "batch_normalization_70 (Batc (None, 24, 24, 16)        64        \n",
            "_________________________________________________________________\n",
            "dropout_47 (Dropout)         (None, 24, 24, 16)        0         \n",
            "_________________________________________________________________\n",
            "max_pooling2d_47 (MaxPooling (None, 12, 12, 16)        0         \n",
            "_________________________________________________________________\n",
            "conv2d_125 (Conv2D)          (None, 10, 10, 16)        2320      \n",
            "_________________________________________________________________\n",
            "batch_normalization_71 (Batc (None, 10, 10, 16)        64        \n",
            "_________________________________________________________________\n",
            "dropout_48 (Dropout)         (None, 10, 10, 16)        0         \n",
            "_________________________________________________________________\n",
            "max_pooling2d_48 (MaxPooling (None, 5, 5, 16)          0         \n",
            "_________________________________________________________________\n",
            "conv2d_126 (Conv2D)          (None, 3, 3, 32)          4640      \n",
            "_________________________________________________________________\n",
            "conv2d_127 (Conv2D)          (None, 3, 3, 10)          330       \n",
            "_________________________________________________________________\n",
            "batch_normalization_72 (Batc (None, 3, 3, 10)          40        \n",
            "_________________________________________________________________\n",
            "average_pooling2d_23 (Averag (None, 1, 1, 10)          0         \n",
            "_________________________________________________________________\n",
            "flatten_23 (Flatten)         (None, 10)                0         \n",
            "_________________________________________________________________\n",
            "activation_56 (Activation)   (None, 10)                0         \n",
            "=================================================================\n",
            "Total params: 8,706\n",
            "Trainable params: 8,622\n",
            "Non-trainable params: 84\n",
            "_________________________________________________________________\n"
          ],
          "name": "stdout"
        }
      ]
    },
    {
      "cell_type": "code",
      "metadata": {
        "id": "Oz9KfCuRf2V2",
        "colab_type": "code",
        "colab": {}
      },
      "source": [
        "checkpointer = ModelCheckpoint(filepath='model_best5.h5', monitor='val_loss', mode='auto', verbose = 1, save_best_only=True)\n",
        "lr_reducer = ReduceLROnPlateau(monitor='val_acc',factor=0.5, cooldown=0, patience=4, min_lr=0.5e-9,verbose = 1)"
      ],
      "execution_count": 0,
      "outputs": []
    },
    {
      "cell_type": "code",
      "metadata": {
        "id": "Zp6SuGrL9M3h",
        "colab_type": "code",
        "colab": {}
      },
      "source": [
        "model.compile(loss='categorical_crossentropy',\n",
        "             optimizer='adam',\n",
        "             metrics=['accuracy'])"
      ],
      "execution_count": 0,
      "outputs": []
    },
    {
      "cell_type": "code",
      "metadata": {
        "id": "4xWoKhPY9Of5",
        "colab_type": "code",
        "outputId": "d279e793-83f6-4e8d-fd27-2ee199a7ff07",
        "colab": {
          "base_uri": "https://localhost:8080/",
          "height": 3222
        }
      },
      "source": [
        "model.fit(X_train, Y_train, batch_size=64, nb_epoch=40, verbose=1,validation_data=(X_test, Y_test),callbacks=[checkpointer,lr_reducer])"
      ],
      "execution_count": 186,
      "outputs": [
        {
          "output_type": "stream",
          "text": [
            "/usr/local/lib/python3.6/dist-packages/ipykernel_launcher.py:1: UserWarning: The `nb_epoch` argument in `fit` has been renamed `epochs`.\n",
            "  \"\"\"Entry point for launching an IPython kernel.\n"
          ],
          "name": "stderr"
        },
        {
          "output_type": "stream",
          "text": [
            "Train on 60000 samples, validate on 10000 samples\n",
            "Epoch 1/40\n",
            "60000/60000 [==============================] - 13s 213us/step - loss: 0.6021 - acc: 0.9032 - val_loss: 0.2621 - val_acc: 0.9660\n",
            "\n",
            "Epoch 00001: val_loss improved from inf to 0.26211, saving model to model_best5.h5\n",
            "Epoch 2/40\n",
            "60000/60000 [==============================] - 9s 146us/step - loss: 0.1782 - acc: 0.9729 - val_loss: 0.2109 - val_acc: 0.9687\n",
            "\n",
            "Epoch 00002: val_loss improved from 0.26211 to 0.21094, saving model to model_best5.h5\n",
            "Epoch 3/40\n",
            "60000/60000 [==============================] - 8s 135us/step - loss: 0.1140 - acc: 0.9787 - val_loss: 0.1137 - val_acc: 0.9840\n",
            "\n",
            "Epoch 00003: val_loss improved from 0.21094 to 0.11372, saving model to model_best5.h5\n",
            "Epoch 4/40\n",
            "60000/60000 [==============================] - 8s 130us/step - loss: 0.0845 - acc: 0.9822 - val_loss: 0.1023 - val_acc: 0.9796\n",
            "\n",
            "Epoch 00004: val_loss improved from 0.11372 to 0.10231, saving model to model_best5.h5\n",
            "Epoch 5/40\n",
            "60000/60000 [==============================] - 8s 130us/step - loss: 0.0710 - acc: 0.9837 - val_loss: 0.0686 - val_acc: 0.9866\n",
            "\n",
            "Epoch 00005: val_loss improved from 0.10231 to 0.06856, saving model to model_best5.h5\n",
            "Epoch 6/40\n",
            "60000/60000 [==============================] - 8s 132us/step - loss: 0.0608 - acc: 0.9849 - val_loss: 0.0733 - val_acc: 0.9832\n",
            "\n",
            "Epoch 00006: val_loss did not improve from 0.06856\n",
            "Epoch 7/40\n",
            "60000/60000 [==============================] - 8s 130us/step - loss: 0.0533 - acc: 0.9861 - val_loss: 0.0585 - val_acc: 0.9893\n",
            "\n",
            "Epoch 00007: val_loss improved from 0.06856 to 0.05853, saving model to model_best5.h5\n",
            "Epoch 8/40\n",
            "60000/60000 [==============================] - 8s 130us/step - loss: 0.0497 - acc: 0.9869 - val_loss: 0.0508 - val_acc: 0.9887\n",
            "\n",
            "Epoch 00008: val_loss improved from 0.05853 to 0.05078, saving model to model_best5.h5\n",
            "Epoch 9/40\n",
            "60000/60000 [==============================] - 8s 130us/step - loss: 0.0452 - acc: 0.9878 - val_loss: 0.0409 - val_acc: 0.9905\n",
            "\n",
            "Epoch 00009: val_loss improved from 0.05078 to 0.04091, saving model to model_best5.h5\n",
            "Epoch 10/40\n",
            "60000/60000 [==============================] - 8s 130us/step - loss: 0.0424 - acc: 0.9882 - val_loss: 0.0425 - val_acc: 0.9885\n",
            "\n",
            "Epoch 00010: val_loss did not improve from 0.04091\n",
            "Epoch 11/40\n",
            "60000/60000 [==============================] - 8s 130us/step - loss: 0.0419 - acc: 0.9884 - val_loss: 0.0398 - val_acc: 0.9906\n",
            "\n",
            "Epoch 00011: val_loss improved from 0.04091 to 0.03978, saving model to model_best5.h5\n",
            "Epoch 12/40\n",
            "60000/60000 [==============================] - 9s 144us/step - loss: 0.0385 - acc: 0.9889 - val_loss: 0.0377 - val_acc: 0.9909\n",
            "\n",
            "Epoch 00012: val_loss improved from 0.03978 to 0.03768, saving model to model_best5.h5\n",
            "Epoch 13/40\n",
            "60000/60000 [==============================] - 8s 137us/step - loss: 0.0360 - acc: 0.9899 - val_loss: 0.0320 - val_acc: 0.9912\n",
            "\n",
            "Epoch 00013: val_loss improved from 0.03768 to 0.03198, saving model to model_best5.h5\n",
            "Epoch 14/40\n",
            "60000/60000 [==============================] - 8s 130us/step - loss: 0.0354 - acc: 0.9897 - val_loss: 0.0435 - val_acc: 0.9889\n",
            "\n",
            "Epoch 00014: val_loss did not improve from 0.03198\n",
            "Epoch 15/40\n",
            "60000/60000 [==============================] - 8s 130us/step - loss: 0.0336 - acc: 0.9903 - val_loss: 0.0403 - val_acc: 0.9886\n",
            "\n",
            "Epoch 00015: val_loss did not improve from 0.03198\n",
            "Epoch 16/40\n",
            "60000/60000 [==============================] - 8s 129us/step - loss: 0.0317 - acc: 0.9909 - val_loss: 0.0405 - val_acc: 0.9896\n",
            "\n",
            "Epoch 00016: val_loss did not improve from 0.03198\n",
            "Epoch 17/40\n",
            "60000/60000 [==============================] - 8s 130us/step - loss: 0.0311 - acc: 0.9911 - val_loss: 0.0425 - val_acc: 0.9884\n",
            "\n",
            "Epoch 00017: val_loss did not improve from 0.03198\n",
            "\n",
            "Epoch 00017: ReduceLROnPlateau reducing learning rate to 0.0005000000237487257.\n",
            "Epoch 18/40\n",
            "60000/60000 [==============================] - 8s 130us/step - loss: 0.0257 - acc: 0.9926 - val_loss: 0.0277 - val_acc: 0.9928\n",
            "\n",
            "Epoch 00018: val_loss improved from 0.03198 to 0.02772, saving model to model_best5.h5\n",
            "Epoch 19/40\n",
            "60000/60000 [==============================] - 8s 130us/step - loss: 0.0241 - acc: 0.9928 - val_loss: 0.0280 - val_acc: 0.9932\n",
            "\n",
            "Epoch 00019: val_loss did not improve from 0.02772\n",
            "Epoch 20/40\n",
            "60000/60000 [==============================] - 8s 130us/step - loss: 0.0238 - acc: 0.9931 - val_loss: 0.0257 - val_acc: 0.9931\n",
            "\n",
            "Epoch 00020: val_loss improved from 0.02772 to 0.02571, saving model to model_best5.h5\n",
            "Epoch 21/40\n",
            "60000/60000 [==============================] - 8s 131us/step - loss: 0.0252 - acc: 0.9924 - val_loss: 0.0239 - val_acc: 0.9934\n",
            "\n",
            "Epoch 00021: val_loss improved from 0.02571 to 0.02391, saving model to model_best5.h5\n",
            "Epoch 22/40\n",
            "60000/60000 [==============================] - 9s 147us/step - loss: 0.0238 - acc: 0.9932 - val_loss: 0.0302 - val_acc: 0.9914\n",
            "\n",
            "Epoch 00022: val_loss did not improve from 0.02391\n",
            "Epoch 23/40\n",
            "60000/60000 [==============================] - 8s 134us/step - loss: 0.0219 - acc: 0.9940 - val_loss: 0.0255 - val_acc: 0.9930\n",
            "\n",
            "Epoch 00023: val_loss did not improve from 0.02391\n",
            "Epoch 24/40\n",
            "60000/60000 [==============================] - 8s 130us/step - loss: 0.0213 - acc: 0.9940 - val_loss: 0.0236 - val_acc: 0.9936\n",
            "\n",
            "Epoch 00024: val_loss improved from 0.02391 to 0.02359, saving model to model_best5.h5\n",
            "Epoch 25/40\n",
            "60000/60000 [==============================] - 8s 130us/step - loss: 0.0221 - acc: 0.9933 - val_loss: 0.0224 - val_acc: 0.9934\n",
            "\n",
            "Epoch 00025: val_loss improved from 0.02359 to 0.02239, saving model to model_best5.h5\n",
            "Epoch 26/40\n",
            "60000/60000 [==============================] - 8s 131us/step - loss: 0.0214 - acc: 0.9940 - val_loss: 0.0268 - val_acc: 0.9921\n",
            "\n",
            "Epoch 00026: val_loss did not improve from 0.02239\n",
            "Epoch 27/40\n",
            "60000/60000 [==============================] - 9s 154us/step - loss: 0.0208 - acc: 0.9941 - val_loss: 0.0237 - val_acc: 0.9929\n",
            "\n",
            "Epoch 00027: val_loss did not improve from 0.02239\n",
            "Epoch 28/40\n",
            "60000/60000 [==============================] - 8s 131us/step - loss: 0.0211 - acc: 0.9940 - val_loss: 0.0227 - val_acc: 0.9936\n",
            "\n",
            "Epoch 00028: val_loss did not improve from 0.02239\n",
            "\n",
            "Epoch 00028: ReduceLROnPlateau reducing learning rate to 0.0002500000118743628.\n",
            "Epoch 29/40\n",
            "60000/60000 [==============================] - 8s 130us/step - loss: 0.0191 - acc: 0.9950 - val_loss: 0.0215 - val_acc: 0.9938\n",
            "\n",
            "Epoch 00029: val_loss improved from 0.02239 to 0.02149, saving model to model_best5.h5\n",
            "Epoch 30/40\n",
            "60000/60000 [==============================] - 8s 130us/step - loss: 0.0186 - acc: 0.9947 - val_loss: 0.0218 - val_acc: 0.9940\n",
            "\n",
            "Epoch 00030: val_loss did not improve from 0.02149\n",
            "Epoch 31/40\n",
            "60000/60000 [==============================] - 8s 130us/step - loss: 0.0192 - acc: 0.9942 - val_loss: 0.0229 - val_acc: 0.9934\n",
            "\n",
            "Epoch 00031: val_loss did not improve from 0.02149\n",
            "Epoch 32/40\n",
            "60000/60000 [==============================] - 9s 148us/step - loss: 0.0169 - acc: 0.9952 - val_loss: 0.0232 - val_acc: 0.9929\n",
            "\n",
            "Epoch 00032: val_loss did not improve from 0.02149\n",
            "Epoch 33/40\n",
            "60000/60000 [==============================] - 8s 133us/step - loss: 0.0170 - acc: 0.9951 - val_loss: 0.0237 - val_acc: 0.9927\n",
            "\n",
            "Epoch 00033: val_loss did not improve from 0.02149\n",
            "Epoch 34/40\n",
            "60000/60000 [==============================] - 8s 130us/step - loss: 0.0175 - acc: 0.9949 - val_loss: 0.0221 - val_acc: 0.9937\n",
            "\n",
            "Epoch 00034: val_loss did not improve from 0.02149\n",
            "\n",
            "Epoch 00034: ReduceLROnPlateau reducing learning rate to 0.0001250000059371814.\n",
            "Epoch 35/40\n",
            "60000/60000 [==============================] - 8s 129us/step - loss: 0.0166 - acc: 0.9954 - val_loss: 0.0209 - val_acc: 0.9941\n",
            "\n",
            "Epoch 00035: val_loss improved from 0.02149 to 0.02095, saving model to model_best5.h5\n",
            "Epoch 36/40\n",
            "60000/60000 [==============================] - 8s 130us/step - loss: 0.0160 - acc: 0.9957 - val_loss: 0.0218 - val_acc: 0.9930\n",
            "\n",
            "Epoch 00036: val_loss did not improve from 0.02095\n",
            "Epoch 37/40\n",
            "60000/60000 [==============================] - 8s 130us/step - loss: 0.0149 - acc: 0.9961 - val_loss: 0.0221 - val_acc: 0.9928\n",
            "\n",
            "Epoch 00037: val_loss did not improve from 0.02095\n",
            "Epoch 38/40\n",
            "60000/60000 [==============================] - 8s 129us/step - loss: 0.0162 - acc: 0.9953 - val_loss: 0.0211 - val_acc: 0.9930\n",
            "\n",
            "Epoch 00038: val_loss did not improve from 0.02095\n",
            "\n",
            "Epoch 00038: ReduceLROnPlateau reducing learning rate to 6.25000029685907e-05.\n",
            "Epoch 39/40\n",
            "60000/60000 [==============================] - 8s 130us/step - loss: 0.0152 - acc: 0.9955 - val_loss: 0.0214 - val_acc: 0.9934\n",
            "\n",
            "Epoch 00039: val_loss did not improve from 0.02095\n",
            "Epoch 40/40\n",
            "60000/60000 [==============================] - 8s 130us/step - loss: 0.0150 - acc: 0.9957 - val_loss: 0.0210 - val_acc: 0.9933\n",
            "\n",
            "Epoch 00040: val_loss did not improve from 0.02095\n"
          ],
          "name": "stdout"
        },
        {
          "output_type": "execute_result",
          "data": {
            "text/plain": [
              "<keras.callbacks.History at 0x7f7f1254d400>"
            ]
          },
          "metadata": {
            "tags": []
          },
          "execution_count": 186
        }
      ]
    },
    {
      "cell_type": "markdown",
      "metadata": {
        "id": "pLLM61RaXwt7",
        "colab_type": "text"
      },
      "source": [
        "## The validation accuracy achieved is 99.41\n"
      ]
    },
    {
      "cell_type": "code",
      "metadata": {
        "id": "log9_0adiCiN",
        "colab_type": "code",
        "colab": {}
      },
      "source": [
        "model=keras.models.load_model('model_best5.h5')\n"
      ],
      "execution_count": 0,
      "outputs": []
    },
    {
      "cell_type": "code",
      "metadata": {
        "id": "AtsH-lLk-eLb",
        "colab_type": "code",
        "colab": {}
      },
      "source": [
        "score = model.evaluate(X_test, Y_test, verbose=0)"
      ],
      "execution_count": 0,
      "outputs": []
    },
    {
      "cell_type": "code",
      "metadata": {
        "id": "mkX8JMv79q9r",
        "colab_type": "code",
        "outputId": "e8f1273f-e373-431e-d8a5-aa26adb16d51",
        "colab": {
          "base_uri": "https://localhost:8080/",
          "height": 36
        }
      },
      "source": [
        "print(score)"
      ],
      "execution_count": 189,
      "outputs": [
        {
          "output_type": "stream",
          "text": [
            "[0.020946532106027007, 0.9941]\n"
          ],
          "name": "stdout"
        }
      ]
    },
    {
      "cell_type": "markdown",
      "metadata": {
        "id": "16oDs36CFoE0",
        "colab_type": "text"
      },
      "source": [
        "### Model with Image Normalization &  Relu after BN\n"
      ]
    },
    {
      "cell_type": "code",
      "metadata": {
        "id": "cEqSIQIwNF_F",
        "colab_type": "code",
        "colab": {}
      },
      "source": [
        "from keras.layers import Activation, MaxPooling2D,AveragePooling2D,Dropout,BatchNormalization\n",
        "from keras import regularizers\n",
        "import keras.callbacks\n",
        "from keras.callbacks import *\n",
        "model = Sequential()\n",
        "\n",
        " \n",
        "\n",
        "model.add(Convolution2D(8, (3, 3),activation='relu', input_shape=(28,28,1)))\n",
        "                               # Global Receptive field (3,3), output channel size =(26,26,8)\n",
        "#model.add(BatchNormalization())\n",
        "model.add(Convolution2D(16, (3, 3)))\n",
        "                               # Global Receptive field (5,5), output channel size =(24,24,16)\n",
        "model.add(BatchNormalization())\n",
        "model.add(Activation('relu'))\n",
        "model.add(Dropout(0.2))\n",
        "\n",
        "\n",
        "model.add(MaxPooling2D(pool_size = (2, 2)))\n",
        "                               # Global Receptive field (10,10), output channel size =(12,12,16)\n",
        "  \n",
        "model.add(Convolution2D(16, (3, 3)))\n",
        "                               # Global Receptive field (12,12), output channel size =(10,10,16)\n",
        "model.add(BatchNormalization())\n",
        "model.add(Activation('relu'))\n",
        "model.add(Dropout(0.2))\n",
        "\n",
        "\n",
        "model.add(MaxPooling2D(pool_size = (2, 2)))\n",
        "                               # Global Receptive field (24,24), output channel size =(5,5,16)\n",
        "  \n",
        "model.add(Convolution2D(32, (3,3),activation='relu'))\n",
        "                               # Global Receptive field (26,26), output channel size =(3,3,32)\n",
        "#model.add(BatchNormalization())\n",
        "\n",
        "\n",
        "model.add(Convolution2D(10, 1))\n",
        "                               # Global Receptive field (26,26), output channel size =(3,3,10)\n",
        "model.add(BatchNormalization())\n",
        "model.add(Activation('relu'))\n",
        "                      \n",
        "model.add(AveragePooling2D(pool_size = (3, 3)))\n",
        "#model.add(Convolution2D(10, 3))\n",
        "                               # Global Receptive field (28,28), output channel size =(1,1,10)\n",
        "model.add(Flatten())\n",
        "model.add(Activation('softmax'))"
      ],
      "execution_count": 0,
      "outputs": []
    },
    {
      "cell_type": "code",
      "metadata": {
        "id": "qguIdAqtNGD_",
        "colab_type": "code",
        "colab": {
          "base_uri": "https://localhost:8080/",
          "height": 818
        },
        "outputId": "65296edb-7e78-47e4-86d6-9b4e6c4db0cc"
      },
      "source": [
        "model.summary()"
      ],
      "execution_count": 238,
      "outputs": [
        {
          "output_type": "stream",
          "text": [
            "_________________________________________________________________\n",
            "Layer (type)                 Output Shape              Param #   \n",
            "=================================================================\n",
            "conv2d_168 (Conv2D)          (None, 26, 26, 8)         80        \n",
            "_________________________________________________________________\n",
            "conv2d_169 (Conv2D)          (None, 24, 24, 16)        1168      \n",
            "_________________________________________________________________\n",
            "batch_normalization_97 (Batc (None, 24, 24, 16)        64        \n",
            "_________________________________________________________________\n",
            "activation_86 (Activation)   (None, 24, 24, 16)        0         \n",
            "_________________________________________________________________\n",
            "dropout_65 (Dropout)         (None, 24, 24, 16)        0         \n",
            "_________________________________________________________________\n",
            "max_pooling2d_65 (MaxPooling (None, 12, 12, 16)        0         \n",
            "_________________________________________________________________\n",
            "conv2d_170 (Conv2D)          (None, 10, 10, 16)        2320      \n",
            "_________________________________________________________________\n",
            "batch_normalization_98 (Batc (None, 10, 10, 16)        64        \n",
            "_________________________________________________________________\n",
            "activation_87 (Activation)   (None, 10, 10, 16)        0         \n",
            "_________________________________________________________________\n",
            "dropout_66 (Dropout)         (None, 10, 10, 16)        0         \n",
            "_________________________________________________________________\n",
            "max_pooling2d_66 (MaxPooling (None, 5, 5, 16)          0         \n",
            "_________________________________________________________________\n",
            "conv2d_171 (Conv2D)          (None, 3, 3, 32)          4640      \n",
            "_________________________________________________________________\n",
            "conv2d_172 (Conv2D)          (None, 3, 3, 10)          330       \n",
            "_________________________________________________________________\n",
            "batch_normalization_99 (Batc (None, 3, 3, 10)          40        \n",
            "_________________________________________________________________\n",
            "activation_88 (Activation)   (None, 3, 3, 10)          0         \n",
            "_________________________________________________________________\n",
            "average_pooling2d_32 (Averag (None, 1, 1, 10)          0         \n",
            "_________________________________________________________________\n",
            "flatten_32 (Flatten)         (None, 10)                0         \n",
            "_________________________________________________________________\n",
            "activation_89 (Activation)   (None, 10)                0         \n",
            "=================================================================\n",
            "Total params: 8,706\n",
            "Trainable params: 8,622\n",
            "Non-trainable params: 84\n",
            "_________________________________________________________________\n"
          ],
          "name": "stdout"
        }
      ]
    },
    {
      "cell_type": "code",
      "metadata": {
        "id": "0cFQBgCMNGKK",
        "colab_type": "code",
        "colab": {}
      },
      "source": [
        "checkpointer = ModelCheckpoint(filepath='model_best2.h5', monitor='val_loss', mode='auto', verbose = 1, save_best_only=True)\n",
        "lr_reducer = ReduceLROnPlateau(monitor='val_acc',factor=0.5, cooldown=0, patience=4, min_lr=0.5e-9,verbose = 1)"
      ],
      "execution_count": 0,
      "outputs": []
    },
    {
      "cell_type": "code",
      "metadata": {
        "id": "MC5N2dysNGOn",
        "colab_type": "code",
        "colab": {}
      },
      "source": [
        "model.compile(loss='categorical_crossentropy',\n",
        "             optimizer='adam',\n",
        "             metrics=['accuracy'])"
      ],
      "execution_count": 0,
      "outputs": []
    },
    {
      "cell_type": "code",
      "metadata": {
        "id": "Thr0_86DNGU_",
        "colab_type": "code",
        "colab": {
          "base_uri": "https://localhost:8080/",
          "height": 3222
        },
        "outputId": "16f48531-b6ed-494d-f407-2784a355ce38"
      },
      "source": [
        "model.fit(X_train, Y_train, batch_size=64, nb_epoch=40, verbose=1,validation_data=(X_test, Y_test),callbacks=[checkpointer,lr_reducer])"
      ],
      "execution_count": 241,
      "outputs": [
        {
          "output_type": "stream",
          "text": [
            "/usr/local/lib/python3.6/dist-packages/ipykernel_launcher.py:1: UserWarning: The `nb_epoch` argument in `fit` has been renamed `epochs`.\n",
            "  \"\"\"Entry point for launching an IPython kernel.\n"
          ],
          "name": "stderr"
        },
        {
          "output_type": "stream",
          "text": [
            "Train on 60000 samples, validate on 10000 samples\n",
            "Epoch 1/40\n",
            "60000/60000 [==============================] - 17s 289us/step - loss: 0.6828 - acc: 0.9135 - val_loss: 0.4399 - val_acc: 0.9615\n",
            "\n",
            "Epoch 00001: val_loss improved from inf to 0.43993, saving model to model_best2.h5\n",
            "Epoch 2/40\n",
            "60000/60000 [==============================] - 9s 142us/step - loss: 0.2124 - acc: 0.9719 - val_loss: 0.2320 - val_acc: 0.9810\n",
            "\n",
            "Epoch 00002: val_loss improved from 0.43993 to 0.23196, saving model to model_best2.h5\n",
            "Epoch 3/40\n",
            "60000/60000 [==============================] - 8s 142us/step - loss: 0.1327 - acc: 0.9784 - val_loss: 0.1703 - val_acc: 0.9820\n",
            "\n",
            "Epoch 00003: val_loss improved from 0.23196 to 0.17033, saving model to model_best2.h5\n",
            "Epoch 4/40\n",
            "60000/60000 [==============================] - 9s 143us/step - loss: 0.0986 - acc: 0.9819 - val_loss: 0.1212 - val_acc: 0.9850\n",
            "\n",
            "Epoch 00004: val_loss improved from 0.17033 to 0.12118, saving model to model_best2.h5\n",
            "Epoch 5/40\n",
            "60000/60000 [==============================] - 10s 162us/step - loss: 0.0798 - acc: 0.9842 - val_loss: 0.0898 - val_acc: 0.9883\n",
            "\n",
            "Epoch 00005: val_loss improved from 0.12118 to 0.08978, saving model to model_best2.h5\n",
            "Epoch 6/40\n",
            "60000/60000 [==============================] - 9s 143us/step - loss: 0.0684 - acc: 0.9849 - val_loss: 0.0935 - val_acc: 0.9881\n",
            "\n",
            "Epoch 00006: val_loss did not improve from 0.08978\n",
            "Epoch 7/40\n",
            "60000/60000 [==============================] - 9s 143us/step - loss: 0.0570 - acc: 0.9870 - val_loss: 0.0678 - val_acc: 0.9910\n",
            "\n",
            "Epoch 00007: val_loss improved from 0.08978 to 0.06782, saving model to model_best2.h5\n",
            "Epoch 8/40\n",
            "60000/60000 [==============================] - 9s 142us/step - loss: 0.0536 - acc: 0.9873 - val_loss: 0.0644 - val_acc: 0.9889\n",
            "\n",
            "Epoch 00008: val_loss improved from 0.06782 to 0.06438, saving model to model_best2.h5\n",
            "Epoch 9/40\n",
            "60000/60000 [==============================] - 9s 144us/step - loss: 0.0475 - acc: 0.9879 - val_loss: 0.0549 - val_acc: 0.9897\n",
            "\n",
            "Epoch 00009: val_loss improved from 0.06438 to 0.05492, saving model to model_best2.h5\n",
            "Epoch 10/40\n",
            "60000/60000 [==============================] - 9s 144us/step - loss: 0.0456 - acc: 0.9886 - val_loss: 0.0491 - val_acc: 0.9914\n",
            "\n",
            "Epoch 00010: val_loss improved from 0.05492 to 0.04908, saving model to model_best2.h5\n",
            "Epoch 11/40\n",
            "60000/60000 [==============================] - 9s 142us/step - loss: 0.0408 - acc: 0.9897 - val_loss: 0.0524 - val_acc: 0.9900\n",
            "\n",
            "Epoch 00011: val_loss did not improve from 0.04908\n",
            "Epoch 12/40\n",
            "60000/60000 [==============================] - 9s 143us/step - loss: 0.0391 - acc: 0.9898 - val_loss: 0.0537 - val_acc: 0.9908\n",
            "\n",
            "Epoch 00012: val_loss did not improve from 0.04908\n",
            "Epoch 13/40\n",
            "60000/60000 [==============================] - 9s 143us/step - loss: 0.0370 - acc: 0.9908 - val_loss: 0.0459 - val_acc: 0.9898\n",
            "\n",
            "Epoch 00013: val_loss improved from 0.04908 to 0.04589, saving model to model_best2.h5\n",
            "Epoch 14/40\n",
            "60000/60000 [==============================] - 9s 158us/step - loss: 0.0359 - acc: 0.9904 - val_loss: 0.0422 - val_acc: 0.9908\n",
            "\n",
            "Epoch 00014: val_loss improved from 0.04589 to 0.04220, saving model to model_best2.h5\n",
            "\n",
            "Epoch 00014: ReduceLROnPlateau reducing learning rate to 0.0005000000237487257.\n",
            "Epoch 15/40\n",
            "60000/60000 [==============================] - 9s 143us/step - loss: 0.0304 - acc: 0.9919 - val_loss: 0.0381 - val_acc: 0.9927\n",
            "\n",
            "Epoch 00015: val_loss improved from 0.04220 to 0.03810, saving model to model_best2.h5\n",
            "Epoch 16/40\n",
            "60000/60000 [==============================] - 9s 143us/step - loss: 0.0291 - acc: 0.9923 - val_loss: 0.0365 - val_acc: 0.9927\n",
            "\n",
            "Epoch 00016: val_loss improved from 0.03810 to 0.03651, saving model to model_best2.h5\n",
            "Epoch 17/40\n",
            "60000/60000 [==============================] - 9s 143us/step - loss: 0.0286 - acc: 0.9927 - val_loss: 0.0353 - val_acc: 0.9928\n",
            "\n",
            "Epoch 00017: val_loss improved from 0.03651 to 0.03533, saving model to model_best2.h5\n",
            "Epoch 18/40\n",
            "60000/60000 [==============================] - 9s 143us/step - loss: 0.0282 - acc: 0.9925 - val_loss: 0.0358 - val_acc: 0.9927\n",
            "\n",
            "Epoch 00018: val_loss did not improve from 0.03533\n",
            "Epoch 19/40\n",
            "60000/60000 [==============================] - 9s 143us/step - loss: 0.0267 - acc: 0.9931 - val_loss: 0.0370 - val_acc: 0.9919\n",
            "\n",
            "Epoch 00019: val_loss did not improve from 0.03533\n",
            "\n",
            "Epoch 00019: ReduceLROnPlateau reducing learning rate to 0.0002500000118743628.\n",
            "Epoch 20/40\n",
            "60000/60000 [==============================] - 9s 143us/step - loss: 0.0244 - acc: 0.9938 - val_loss: 0.0325 - val_acc: 0.9937\n",
            "\n",
            "Epoch 00020: val_loss improved from 0.03533 to 0.03251, saving model to model_best2.h5\n",
            "Epoch 21/40\n",
            "60000/60000 [==============================] - 9s 142us/step - loss: 0.0234 - acc: 0.9939 - val_loss: 0.0305 - val_acc: 0.9936\n",
            "\n",
            "Epoch 00021: val_loss improved from 0.03251 to 0.03054, saving model to model_best2.h5\n",
            "Epoch 22/40\n",
            "60000/60000 [==============================] - 9s 143us/step - loss: 0.0232 - acc: 0.9940 - val_loss: 0.0305 - val_acc: 0.9939\n",
            "\n",
            "Epoch 00022: val_loss improved from 0.03054 to 0.03048, saving model to model_best2.h5\n",
            "Epoch 23/40\n",
            "60000/60000 [==============================] - 10s 161us/step - loss: 0.0233 - acc: 0.9938 - val_loss: 0.0299 - val_acc: 0.9943\n",
            "\n",
            "Epoch 00023: val_loss improved from 0.03048 to 0.02993, saving model to model_best2.h5\n",
            "Epoch 24/40\n",
            "60000/60000 [==============================] - 9s 145us/step - loss: 0.0225 - acc: 0.9943 - val_loss: 0.0314 - val_acc: 0.9937\n",
            "\n",
            "Epoch 00024: val_loss did not improve from 0.02993\n",
            "Epoch 25/40\n",
            "60000/60000 [==============================] - 9s 143us/step - loss: 0.0232 - acc: 0.9939 - val_loss: 0.0297 - val_acc: 0.9934\n",
            "\n",
            "Epoch 00025: val_loss improved from 0.02993 to 0.02968, saving model to model_best2.h5\n",
            "Epoch 26/40\n",
            "60000/60000 [==============================] - 9s 144us/step - loss: 0.0222 - acc: 0.9940 - val_loss: 0.0298 - val_acc: 0.9940\n",
            "\n",
            "Epoch 00026: val_loss did not improve from 0.02968\n",
            "Epoch 27/40\n",
            "60000/60000 [==============================] - 9s 144us/step - loss: 0.0227 - acc: 0.9939 - val_loss: 0.0292 - val_acc: 0.9944\n",
            "\n",
            "Epoch 00027: val_loss improved from 0.02968 to 0.02919, saving model to model_best2.h5\n",
            "\n",
            "Epoch 00027: ReduceLROnPlateau reducing learning rate to 0.0001250000059371814.\n",
            "Epoch 28/40\n",
            "60000/60000 [==============================] - 9s 153us/step - loss: 0.0210 - acc: 0.9943 - val_loss: 0.0287 - val_acc: 0.9943\n",
            "\n",
            "Epoch 00028: val_loss improved from 0.02919 to 0.02866, saving model to model_best2.h5\n",
            "Epoch 29/40\n",
            "60000/60000 [==============================] - 9s 143us/step - loss: 0.0203 - acc: 0.9949 - val_loss: 0.0265 - val_acc: 0.9946\n",
            "\n",
            "Epoch 00029: val_loss improved from 0.02866 to 0.02646, saving model to model_best2.h5\n",
            "Epoch 30/40\n",
            "60000/60000 [==============================] - 9s 143us/step - loss: 0.0209 - acc: 0.9945 - val_loss: 0.0270 - val_acc: 0.9944\n",
            "\n",
            "Epoch 00030: val_loss did not improve from 0.02646\n",
            "Epoch 31/40\n",
            "60000/60000 [==============================] - 9s 143us/step - loss: 0.0206 - acc: 0.9946 - val_loss: 0.0267 - val_acc: 0.9946\n",
            "\n",
            "Epoch 00031: val_loss did not improve from 0.02646\n",
            "Epoch 32/40\n",
            "60000/60000 [==============================] - 9s 158us/step - loss: 0.0206 - acc: 0.9946 - val_loss: 0.0274 - val_acc: 0.9946\n",
            "\n",
            "Epoch 00032: val_loss did not improve from 0.02646\n",
            "Epoch 33/40\n",
            "60000/60000 [==============================] - 10s 169us/step - loss: 0.0194 - acc: 0.9951 - val_loss: 0.0256 - val_acc: 0.9955\n",
            "\n",
            "Epoch 00033: val_loss improved from 0.02646 to 0.02557, saving model to model_best2.h5\n",
            "Epoch 34/40\n",
            "60000/60000 [==============================] - 9s 143us/step - loss: 0.0193 - acc: 0.9950 - val_loss: 0.0269 - val_acc: 0.9945\n",
            "\n",
            "Epoch 00034: val_loss did not improve from 0.02557\n",
            "Epoch 35/40\n",
            "60000/60000 [==============================] - 9s 146us/step - loss: 0.0194 - acc: 0.9949 - val_loss: 0.0265 - val_acc: 0.9955\n",
            "\n",
            "Epoch 00035: val_loss did not improve from 0.02557\n",
            "Epoch 36/40\n",
            "60000/60000 [==============================] - 9s 144us/step - loss: 0.0196 - acc: 0.9950 - val_loss: 0.0274 - val_acc: 0.9940\n",
            "\n",
            "Epoch 00036: val_loss did not improve from 0.02557\n",
            "Epoch 37/40\n",
            "60000/60000 [==============================] - 9s 143us/step - loss: 0.0198 - acc: 0.9947 - val_loss: 0.0255 - val_acc: 0.9950\n",
            "\n",
            "Epoch 00037: val_loss improved from 0.02557 to 0.02546, saving model to model_best2.h5\n",
            "\n",
            "Epoch 00037: ReduceLROnPlateau reducing learning rate to 6.25000029685907e-05.\n",
            "Epoch 38/40\n",
            "60000/60000 [==============================] - 9s 142us/step - loss: 0.0193 - acc: 0.9947 - val_loss: 0.0267 - val_acc: 0.9941\n",
            "\n",
            "Epoch 00038: val_loss did not improve from 0.02546\n",
            "Epoch 39/40\n",
            "60000/60000 [==============================] - 9s 142us/step - loss: 0.0196 - acc: 0.9948 - val_loss: 0.0268 - val_acc: 0.9942\n",
            "\n",
            "Epoch 00039: val_loss did not improve from 0.02546\n",
            "Epoch 40/40\n",
            "60000/60000 [==============================] - 9s 142us/step - loss: 0.0197 - acc: 0.9947 - val_loss: 0.0255 - val_acc: 0.9945\n",
            "\n",
            "Epoch 00040: val_loss did not improve from 0.02546\n"
          ],
          "name": "stdout"
        },
        {
          "output_type": "execute_result",
          "data": {
            "text/plain": [
              "<keras.callbacks.History at 0x7f7efeeb8390>"
            ]
          },
          "metadata": {
            "tags": []
          },
          "execution_count": 241
        }
      ]
    },
    {
      "cell_type": "markdown",
      "metadata": {
        "id": "3Te-BhnNaJ4N",
        "colab_type": "text"
      },
      "source": [
        "## The validation accuracy achieved is 99.55"
      ]
    },
    {
      "cell_type": "code",
      "metadata": {
        "id": "KfIL3D_KNGYL",
        "colab_type": "code",
        "colab": {
          "base_uri": "https://localhost:8080/",
          "height": 36
        },
        "outputId": "0469651f-8bbb-496e-b590-a8d44463d0cd"
      },
      "source": [
        "model=keras.models.load_model('model_best2.h5')\n",
        "score = model.evaluate(X_test, Y_test, verbose=0)\n",
        "print(score)"
      ],
      "execution_count": 242,
      "outputs": [
        {
          "output_type": "stream",
          "text": [
            "[0.025459150733426212, 0.995]\n"
          ],
          "name": "stdout"
        }
      ]
    },
    {
      "cell_type": "markdown",
      "metadata": {
        "id": "9YwUkyQWUl_U",
        "colab_type": "text"
      },
      "source": [
        "\n",
        "I observed that the model is giving beter results and converging faster."
      ]
    },
    {
      "cell_type": "markdown",
      "metadata": {
        "id": "S5w-SUzQGH1H",
        "colab_type": "text"
      },
      "source": [
        "### Model with Image Normalization , Relu after BN & L2 Regularizer"
      ]
    },
    {
      "cell_type": "code",
      "metadata": {
        "id": "R3e4VlrkSIxa",
        "colab_type": "code",
        "colab": {}
      },
      "source": [
        "from keras.layers import Activation, MaxPooling2D,AveragePooling2D,Dropout,BatchNormalization\n",
        "from keras import regularizers\n",
        "import keras.callbacks\n",
        "from keras.callbacks import *\n",
        "model = Sequential()\n",
        "\n",
        " \n",
        "\n",
        "model.add(Convolution2D(8, (3, 3),activation='relu', input_shape=(28,28,1),kernel_regularizer=regularizers.l2(0.0000001)))\n",
        "                               # Global Receptive field (3,3), output channel size =(26,26,8)\n",
        "#model.add(BatchNormalization())\n",
        "model.add(Convolution2D(16, (3, 3),kernel_regularizer=regularizers.l2(0.0000001)))\n",
        "                               # Global Receptive field (5,5), output channel size =(24,24,16)\n",
        "model.add(BatchNormalization())\n",
        "model.add(Activation('relu'))\n",
        "model.add(Dropout(0.2))\n",
        "\n",
        "\n",
        "model.add(MaxPooling2D(pool_size = (2, 2)))\n",
        "                               # Global Receptive field (10,10), output channel size =(12,12,16)\n",
        "  \n",
        "model.add(Convolution2D(16, (3, 3),kernel_regularizer=regularizers.l2(0.0000001)))\n",
        "                               # Global Receptive field (12,12), output channel size =(10,10,16)\n",
        "model.add(BatchNormalization())\n",
        "model.add(Activation('relu'))\n",
        "model.add(Dropout(0.2))\n",
        "\n",
        "\n",
        "model.add(MaxPooling2D(pool_size = (2, 2)))\n",
        "                               # Global Receptive field (24,24), output channel size =(5,5,16)\n",
        "  \n",
        "model.add(Convolution2D(32, (3,3),activation='relu',kernel_regularizer=regularizers.l2(0.0000001)))\n",
        "                               # Global Receptive field (26,26), output channel size =(3,3,32)\n",
        "#model.add(BatchNormalization())\n",
        "\n",
        "\n",
        "model.add(Convolution2D(10, 1,kernel_regularizer=regularizers.l2(0.0000001)))\n",
        "                               # Global Receptive field (26,26), output channel size =(3,3,10)\n",
        "model.add(BatchNormalization())\n",
        "model.add(Activation('relu'))\n",
        "                      \n",
        "model.add(AveragePooling2D(pool_size = (3, 3)))\n",
        "#model.add(Convolution2D(10, 3))\n",
        "                               # Global Receptive field (28,28), output channel size =(1,1,10)\n",
        "model.add(Flatten())\n",
        "model.add(Activation('softmax'))"
      ],
      "execution_count": 0,
      "outputs": []
    },
    {
      "cell_type": "code",
      "metadata": {
        "id": "_TpwKYo6SI8f",
        "colab_type": "code",
        "colab": {
          "base_uri": "https://localhost:8080/",
          "height": 818
        },
        "outputId": "fc042c44-ff3d-43d5-9d49-f431c3ca9456"
      },
      "source": [
        "model.summary()"
      ],
      "execution_count": 448,
      "outputs": [
        {
          "output_type": "stream",
          "text": [
            "_________________________________________________________________\n",
            "Layer (type)                 Output Shape              Param #   \n",
            "=================================================================\n",
            "conv2d_263 (Conv2D)          (None, 26, 26, 8)         80        \n",
            "_________________________________________________________________\n",
            "conv2d_264 (Conv2D)          (None, 24, 24, 16)        1168      \n",
            "_________________________________________________________________\n",
            "batch_normalization_154 (Bat (None, 24, 24, 16)        64        \n",
            "_________________________________________________________________\n",
            "activation_162 (Activation)  (None, 24, 24, 16)        0         \n",
            "_________________________________________________________________\n",
            "dropout_103 (Dropout)        (None, 24, 24, 16)        0         \n",
            "_________________________________________________________________\n",
            "max_pooling2d_103 (MaxPoolin (None, 12, 12, 16)        0         \n",
            "_________________________________________________________________\n",
            "conv2d_265 (Conv2D)          (None, 10, 10, 16)        2320      \n",
            "_________________________________________________________________\n",
            "batch_normalization_155 (Bat (None, 10, 10, 16)        64        \n",
            "_________________________________________________________________\n",
            "activation_163 (Activation)  (None, 10, 10, 16)        0         \n",
            "_________________________________________________________________\n",
            "dropout_104 (Dropout)        (None, 10, 10, 16)        0         \n",
            "_________________________________________________________________\n",
            "max_pooling2d_104 (MaxPoolin (None, 5, 5, 16)          0         \n",
            "_________________________________________________________________\n",
            "conv2d_266 (Conv2D)          (None, 3, 3, 32)          4640      \n",
            "_________________________________________________________________\n",
            "conv2d_267 (Conv2D)          (None, 3, 3, 10)          330       \n",
            "_________________________________________________________________\n",
            "batch_normalization_156 (Bat (None, 3, 3, 10)          40        \n",
            "_________________________________________________________________\n",
            "activation_164 (Activation)  (None, 3, 3, 10)          0         \n",
            "_________________________________________________________________\n",
            "average_pooling2d_51 (Averag (None, 1, 1, 10)          0         \n",
            "_________________________________________________________________\n",
            "flatten_51 (Flatten)         (None, 10)                0         \n",
            "_________________________________________________________________\n",
            "activation_165 (Activation)  (None, 10)                0         \n",
            "=================================================================\n",
            "Total params: 8,706\n",
            "Trainable params: 8,622\n",
            "Non-trainable params: 84\n",
            "_________________________________________________________________\n"
          ],
          "name": "stdout"
        }
      ]
    },
    {
      "cell_type": "code",
      "metadata": {
        "id": "KFUaIqfRSJKO",
        "colab_type": "code",
        "colab": {}
      },
      "source": [
        "checkpointer = ModelCheckpoint(filepath='model_best3.h5', monitor='val_acc', mode='auto', verbose = 1, save_best_only=True)\n",
        "lr_reducer = ReduceLROnPlateau(monitor='val_acc',factor=0.5, cooldown=0, patience=4, min_lr=0.5e-9,verbose = 1)"
      ],
      "execution_count": 0,
      "outputs": []
    },
    {
      "cell_type": "code",
      "metadata": {
        "id": "zySM7HhVSI3y",
        "colab_type": "code",
        "colab": {}
      },
      "source": [
        "model.compile(loss='categorical_crossentropy',\n",
        "             optimizer='adam',\n",
        "             metrics=['accuracy'])"
      ],
      "execution_count": 0,
      "outputs": []
    },
    {
      "cell_type": "code",
      "metadata": {
        "id": "uZiijC5ANGdN",
        "colab_type": "code",
        "colab": {
          "base_uri": "https://localhost:8080/",
          "height": 3259
        },
        "outputId": "e7eedb25-4d39-4d1a-c122-46e734ee158e"
      },
      "source": [
        "model.fit(X_train, Y_train, batch_size=64, nb_epoch=40, verbose=1,validation_data=(X_test, Y_test),callbacks=[checkpointer,lr_reducer])"
      ],
      "execution_count": 451,
      "outputs": [
        {
          "output_type": "stream",
          "text": [
            "/usr/local/lib/python3.6/dist-packages/ipykernel_launcher.py:1: UserWarning: The `nb_epoch` argument in `fit` has been renamed `epochs`.\n",
            "  \"\"\"Entry point for launching an IPython kernel.\n"
          ],
          "name": "stderr"
        },
        {
          "output_type": "stream",
          "text": [
            "Train on 60000 samples, validate on 10000 samples\n",
            "Epoch 1/40\n",
            "60000/60000 [==============================] - 31s 512us/step - loss: 0.6998 - acc: 0.9097 - val_loss: 0.4399 - val_acc: 0.9676\n",
            "\n",
            "Epoch 00001: val_acc improved from -inf to 0.96760, saving model to model_best3.h5\n",
            "Epoch 2/40\n",
            "60000/60000 [==============================] - 11s 186us/step - loss: 0.2175 - acc: 0.9733 - val_loss: 0.2528 - val_acc: 0.9773\n",
            "\n",
            "Epoch 00002: val_acc improved from 0.96760 to 0.97730, saving model to model_best3.h5\n",
            "Epoch 3/40\n",
            "60000/60000 [==============================] - 11s 186us/step - loss: 0.1351 - acc: 0.9788 - val_loss: 0.1853 - val_acc: 0.9810\n",
            "\n",
            "Epoch 00003: val_acc improved from 0.97730 to 0.98100, saving model to model_best3.h5\n",
            "Epoch 4/40\n",
            "60000/60000 [==============================] - 11s 182us/step - loss: 0.1008 - acc: 0.9822 - val_loss: 0.1312 - val_acc: 0.9856\n",
            "\n",
            "Epoch 00004: val_acc improved from 0.98100 to 0.98560, saving model to model_best3.h5\n",
            "Epoch 5/40\n",
            "60000/60000 [==============================] - 10s 175us/step - loss: 0.0816 - acc: 0.9835 - val_loss: 0.1221 - val_acc: 0.9853\n",
            "\n",
            "Epoch 00005: val_acc did not improve from 0.98560\n",
            "Epoch 6/40\n",
            "60000/60000 [==============================] - 11s 175us/step - loss: 0.0694 - acc: 0.9848 - val_loss: 0.0907 - val_acc: 0.9844\n",
            "\n",
            "Epoch 00006: val_acc did not improve from 0.98560\n",
            "Epoch 7/40\n",
            "60000/60000 [==============================] - 10s 175us/step - loss: 0.0598 - acc: 0.9863 - val_loss: 0.0759 - val_acc: 0.9865\n",
            "\n",
            "Epoch 00007: val_acc improved from 0.98560 to 0.98650, saving model to model_best3.h5\n",
            "Epoch 8/40\n",
            "60000/60000 [==============================] - 11s 176us/step - loss: 0.0551 - acc: 0.9863 - val_loss: 0.1304 - val_acc: 0.9690\n",
            "\n",
            "Epoch 00008: val_acc did not improve from 0.98650\n",
            "Epoch 9/40\n",
            "60000/60000 [==============================] - 11s 176us/step - loss: 0.0505 - acc: 0.9878 - val_loss: 0.0700 - val_acc: 0.9860\n",
            "\n",
            "Epoch 00009: val_acc did not improve from 0.98650\n",
            "Epoch 10/40\n",
            "60000/60000 [==============================] - 10s 174us/step - loss: 0.0453 - acc: 0.9881 - val_loss: 0.0684 - val_acc: 0.9852\n",
            "\n",
            "Epoch 00010: val_acc did not improve from 0.98650\n",
            "Epoch 11/40\n",
            "60000/60000 [==============================] - 12s 195us/step - loss: 0.0437 - acc: 0.9890 - val_loss: 0.0592 - val_acc: 0.9892\n",
            "\n",
            "Epoch 00011: val_acc improved from 0.98650 to 0.98920, saving model to model_best3.h5\n",
            "Epoch 12/40\n",
            "60000/60000 [==============================] - 11s 175us/step - loss: 0.0423 - acc: 0.9887 - val_loss: 0.0477 - val_acc: 0.9896\n",
            "\n",
            "Epoch 00012: val_acc improved from 0.98920 to 0.98960, saving model to model_best3.h5\n",
            "Epoch 13/40\n",
            "60000/60000 [==============================] - 10s 174us/step - loss: 0.0388 - acc: 0.9896 - val_loss: 0.0449 - val_acc: 0.9914\n",
            "\n",
            "Epoch 00013: val_acc improved from 0.98960 to 0.99140, saving model to model_best3.h5\n",
            "Epoch 14/40\n",
            "60000/60000 [==============================] - 10s 174us/step - loss: 0.0368 - acc: 0.9900 - val_loss: 0.0497 - val_acc: 0.9896\n",
            "\n",
            "Epoch 00014: val_acc did not improve from 0.99140\n",
            "Epoch 15/40\n",
            "60000/60000 [==============================] - 11s 176us/step - loss: 0.0357 - acc: 0.9905 - val_loss: 0.0483 - val_acc: 0.9893\n",
            "\n",
            "Epoch 00015: val_acc did not improve from 0.99140\n",
            "Epoch 16/40\n",
            "60000/60000 [==============================] - 10s 174us/step - loss: 0.0340 - acc: 0.9908 - val_loss: 0.0483 - val_acc: 0.9896\n",
            "\n",
            "Epoch 00016: val_acc did not improve from 0.99140\n",
            "Epoch 17/40\n",
            "60000/60000 [==============================] - 10s 175us/step - loss: 0.0322 - acc: 0.9912 - val_loss: 0.0425 - val_acc: 0.9905\n",
            "\n",
            "Epoch 00017: val_acc did not improve from 0.99140\n",
            "\n",
            "Epoch 00017: ReduceLROnPlateau reducing learning rate to 0.0005000000237487257.\n",
            "Epoch 18/40\n",
            "60000/60000 [==============================] - 11s 190us/step - loss: 0.0291 - acc: 0.9918 - val_loss: 0.0424 - val_acc: 0.9901\n",
            "\n",
            "Epoch 00018: val_acc did not improve from 0.99140\n",
            "Epoch 19/40\n",
            "60000/60000 [==============================] - 10s 174us/step - loss: 0.0285 - acc: 0.9921 - val_loss: 0.0329 - val_acc: 0.9932\n",
            "\n",
            "Epoch 00019: val_acc improved from 0.99140 to 0.99320, saving model to model_best3.h5\n",
            "Epoch 20/40\n",
            "60000/60000 [==============================] - 10s 174us/step - loss: 0.0269 - acc: 0.9924 - val_loss: 0.0352 - val_acc: 0.9920\n",
            "\n",
            "Epoch 00020: val_acc did not improve from 0.99320\n",
            "Epoch 21/40\n",
            "60000/60000 [==============================] - 10s 173us/step - loss: 0.0258 - acc: 0.9930 - val_loss: 0.0342 - val_acc: 0.9918\n",
            "\n",
            "Epoch 00021: val_acc did not improve from 0.99320\n",
            "Epoch 22/40\n",
            "60000/60000 [==============================] - 10s 174us/step - loss: 0.0267 - acc: 0.9929 - val_loss: 0.0333 - val_acc: 0.9920\n",
            "\n",
            "Epoch 00022: val_acc did not improve from 0.99320\n",
            "Epoch 23/40\n",
            "60000/60000 [==============================] - 10s 174us/step - loss: 0.0248 - acc: 0.9934 - val_loss: 0.0352 - val_acc: 0.9924\n",
            "\n",
            "Epoch 00023: val_acc did not improve from 0.99320\n",
            "\n",
            "Epoch 00023: ReduceLROnPlateau reducing learning rate to 0.0002500000118743628.\n",
            "Epoch 24/40\n",
            "60000/60000 [==============================] - 10s 174us/step - loss: 0.0233 - acc: 0.9940 - val_loss: 0.0333 - val_acc: 0.9919\n",
            "\n",
            "Epoch 00024: val_acc did not improve from 0.99320\n",
            "Epoch 25/40\n",
            "60000/60000 [==============================] - 11s 189us/step - loss: 0.0238 - acc: 0.9934 - val_loss: 0.0318 - val_acc: 0.9930\n",
            "\n",
            "Epoch 00025: val_acc did not improve from 0.99320\n",
            "Epoch 26/40\n",
            "60000/60000 [==============================] - 12s 201us/step - loss: 0.0220 - acc: 0.9938 - val_loss: 0.0332 - val_acc: 0.9916\n",
            "\n",
            "Epoch 00026: val_acc did not improve from 0.99320\n",
            "Epoch 27/40\n",
            "60000/60000 [==============================] - 11s 178us/step - loss: 0.0219 - acc: 0.9942 - val_loss: 0.0310 - val_acc: 0.9934\n",
            "\n",
            "Epoch 00027: val_acc improved from 0.99320 to 0.99340, saving model to model_best3.h5\n",
            "Epoch 28/40\n",
            "60000/60000 [==============================] - 11s 175us/step - loss: 0.0208 - acc: 0.9945 - val_loss: 0.0326 - val_acc: 0.9923\n",
            "\n",
            "Epoch 00028: val_acc did not improve from 0.99340\n",
            "Epoch 29/40\n",
            "60000/60000 [==============================] - 10s 174us/step - loss: 0.0223 - acc: 0.9937 - val_loss: 0.0327 - val_acc: 0.9925\n",
            "\n",
            "Epoch 00029: val_acc did not improve from 0.99340\n",
            "Epoch 30/40\n",
            "60000/60000 [==============================] - 11s 186us/step - loss: 0.0204 - acc: 0.9948 - val_loss: 0.0323 - val_acc: 0.9922\n",
            "\n",
            "Epoch 00030: val_acc did not improve from 0.99340\n",
            "Epoch 31/40\n",
            "60000/60000 [==============================] - 11s 176us/step - loss: 0.0206 - acc: 0.9945 - val_loss: 0.0321 - val_acc: 0.9927\n",
            "\n",
            "Epoch 00031: val_acc did not improve from 0.99340\n",
            "\n",
            "Epoch 00031: ReduceLROnPlateau reducing learning rate to 0.0001250000059371814.\n",
            "Epoch 32/40\n",
            "60000/60000 [==============================] - 11s 179us/step - loss: 0.0209 - acc: 0.9943 - val_loss: 0.0310 - val_acc: 0.9930\n",
            "\n",
            "Epoch 00032: val_acc did not improve from 0.99340\n",
            "Epoch 33/40\n",
            "60000/60000 [==============================] - 11s 190us/step - loss: 0.0200 - acc: 0.9946 - val_loss: 0.0315 - val_acc: 0.9925\n",
            "\n",
            "Epoch 00033: val_acc did not improve from 0.99340\n",
            "Epoch 34/40\n",
            "60000/60000 [==============================] - 10s 175us/step - loss: 0.0190 - acc: 0.9950 - val_loss: 0.0298 - val_acc: 0.9931\n",
            "\n",
            "Epoch 00034: val_acc did not improve from 0.99340\n",
            "Epoch 35/40\n",
            "60000/60000 [==============================] - 11s 175us/step - loss: 0.0199 - acc: 0.9948 - val_loss: 0.0295 - val_acc: 0.9932\n",
            "\n",
            "Epoch 00035: val_acc did not improve from 0.99340\n",
            "\n",
            "Epoch 00035: ReduceLROnPlateau reducing learning rate to 6.25000029685907e-05.\n",
            "Epoch 36/40\n",
            "60000/60000 [==============================] - 10s 174us/step - loss: 0.0186 - acc: 0.9951 - val_loss: 0.0300 - val_acc: 0.9928\n",
            "\n",
            "Epoch 00036: val_acc did not improve from 0.99340\n",
            "Epoch 37/40\n",
            "60000/60000 [==============================] - 10s 175us/step - loss: 0.0179 - acc: 0.9955 - val_loss: 0.0295 - val_acc: 0.9932\n",
            "\n",
            "Epoch 00037: val_acc did not improve from 0.99340\n",
            "Epoch 38/40\n",
            "60000/60000 [==============================] - 10s 174us/step - loss: 0.0178 - acc: 0.9952 - val_loss: 0.0283 - val_acc: 0.9934\n",
            "\n",
            "Epoch 00038: val_acc did not improve from 0.99340\n",
            "Epoch 39/40\n",
            "60000/60000 [==============================] - 10s 175us/step - loss: 0.0182 - acc: 0.9956 - val_loss: 0.0288 - val_acc: 0.9933\n",
            "\n",
            "Epoch 00039: val_acc did not improve from 0.99340\n",
            "\n",
            "Epoch 00039: ReduceLROnPlateau reducing learning rate to 3.125000148429535e-05.\n",
            "Epoch 40/40\n",
            "60000/60000 [==============================] - 11s 191us/step - loss: 0.0185 - acc: 0.9950 - val_loss: 0.0287 - val_acc: 0.9934\n",
            "\n",
            "Epoch 00040: val_acc did not improve from 0.99340\n"
          ],
          "name": "stdout"
        },
        {
          "output_type": "execute_result",
          "data": {
            "text/plain": [
              "<keras.callbacks.History at 0x7f7ee62d37b8>"
            ]
          },
          "metadata": {
            "tags": []
          },
          "execution_count": 451
        }
      ]
    },
    {
      "cell_type": "code",
      "metadata": {
        "id": "uFVIQi04S35l",
        "colab_type": "code",
        "colab": {
          "base_uri": "https://localhost:8080/",
          "height": 36
        },
        "outputId": "670fae2c-f489-4779-e958-fe94cb326e5a"
      },
      "source": [
        "model=keras.models.load_model('model_best3.h5')\n",
        "score = model.evaluate(X_test, Y_test, verbose=0)\n",
        "print(score)"
      ],
      "execution_count": 452,
      "outputs": [
        {
          "output_type": "stream",
          "text": [
            "[0.030993917743116616, 0.9934]\n"
          ],
          "name": "stdout"
        }
      ]
    },
    {
      "cell_type": "code",
      "metadata": {
        "id": "Fwe0oALj58Md",
        "colab_type": "code",
        "colab": {}
      },
      "source": [
        "predict=model.predict_classes(X_test)"
      ],
      "execution_count": 0,
      "outputs": []
    },
    {
      "cell_type": "code",
      "metadata": {
        "id": "JDdjf0ZPU4tj",
        "colab_type": "code",
        "colab": {}
      },
      "source": [
        "incorrects = np.nonzero(model.predict_classes(X_test).reshape((-1,)) != y_test)\n",
        "incorrects=incorrects[0]\n",
        "incorrects=incorrects.tolist()"
      ],
      "execution_count": 0,
      "outputs": []
    },
    {
      "cell_type": "markdown",
      "metadata": {
        "id": "86746PMi8i21",
        "colab_type": "text"
      },
      "source": [
        "### 25 Misclassified Images"
      ]
    },
    {
      "cell_type": "code",
      "metadata": {
        "id": "DbKIkD7GU48f",
        "colab_type": "code",
        "colab": {
          "base_uri": "https://localhost:8080/",
          "height": 365
        },
        "outputId": "d1902381-00fc-4608-9ebe-b7d5d475ff2e"
      },
      "source": [
        "fig=plt.figure(figsize=(20,20))\n",
        "rows=10\n",
        "columns = 10\n",
        "i=0\n",
        "for j in (incorrects):\n",
        "  if i <25:\n",
        "    fig.add_subplot(rows,columns,i+1)\n",
        "    plt.imshow(test_X[j])\n",
        "    i=i+1\n",
        "plt.show()"
      ],
      "execution_count": 459,
      "outputs": [
        {
          "output_type": "display_data",
          "data": {
            "image/png": "[encoded data removed]",
            "text/plain": [
              "<Figure size 1440x1440 with 25 Axes>"
            ]
          },
          "metadata": {
            "tags": []
          }
        }
      ]
    },
    {
      "cell_type": "code",
      "metadata": {
        "id": "YyA6p-JvLii1",
        "colab_type": "code",
        "colab": {}
      },
      "source": [
        ""
      ],
      "execution_count": 0,
      "outputs": []
    }
  ]
}